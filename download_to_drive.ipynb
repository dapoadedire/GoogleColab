{
  "nbformat": 4,
  "nbformat_minor": 0,
  "metadata": {
    "colab": {
      "provenance": [],
      "authorship_tag": "ABX9TyPPZxrFY12dCdHVyFKZMUUD",
      "include_colab_link": true
    },
    "kernelspec": {
      "name": "python3",
      "display_name": "Python 3"
    },
    "language_info": {
      "name": "python"
    }
  },
  "cells": [
    {
      "cell_type": "markdown",
      "metadata": {
        "id": "view-in-github",
        "colab_type": "text"
      },
      "source": [
        "<a href=\"https://colab.research.google.com/github/dapoadedire/GoogleColab/blob/main/download_to_drive.ipynb\" target=\"_parent\"><img src=\"https://colab.research.google.com/assets/colab-badge.svg\" alt=\"Open In Colab\"/></a>"
      ]
    },
    {
      "cell_type": "code",
      "execution_count": 1,
      "metadata": {
        "colab": {
          "base_uri": "https://localhost:8080/"
        },
        "id": "Nerayhs8HgUB",
        "outputId": "3e19c041-ed9e-4484-c24c-ea853f4cc0b5"
      },
      "outputs": [
        {
          "output_type": "stream",
          "name": "stdout",
          "text": [
            "Mounted at /content/gdrive\n"
          ]
        }
      ],
      "source": [
        "from google.colab import drive\n",
        "drive.mount('/content/gdrive')\n"
      ]
    },
    {
      "cell_type": "code",
      "source": [
        "\n",
        "import requests \n",
        "file_url = \"https://www.pdfdrive.com/download.pdf?id=10172273&h=84f0f3490acb0a861ce0cf97be914eed&u=cache&ext=pdf\"\n",
        "    \n",
        "r = requests.get(file_url, stream = True) \n",
        "  \n",
        "with open(\"/content/gdrive/My Drive/DownloadedFromColab/LivingInLight.pdf\", \"wb\") as file: \n",
        "    for block in r.iter_content(chunk_size = 1024):\n",
        "         if block: \n",
        "             file.write(block) "
      ],
      "metadata": {
        "id": "jTtsimFCIXd6"
      },
      "execution_count": 7,
      "outputs": []
    }
  ]
}